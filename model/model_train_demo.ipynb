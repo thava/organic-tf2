{
  "nbformat": 4,
  "nbformat_minor": 0,
  "metadata": {
    "colab": {
      "provenance": []
    },
    "kernelspec": {
      "name": "python3",
      "display_name": "Python 3"
    },
    "language_info": {
      "name": "python"
    }
  },
  "cells": [
    {
      "cell_type": "markdown",
      "source": [
        "# Model training demo to run in colab environment."
      ],
      "metadata": {
        "id": "Jx7EoTtx1s2a"
      }
    },
    {
      "cell_type": "code",
      "execution_count": null,
      "metadata": {
        "id": "9DeL5hVvotYI"
      },
      "outputs": [],
      "source": [
        "!git clone https://github.com/thava/organic-tf2.git"
      ]
    },
    {
      "cell_type": "code",
      "source": [
        "%cd /content/organic-tf2\n"
      ],
      "metadata": {
        "id": "5X9sTPDw430P"
      },
      "execution_count": null,
      "outputs": []
    },
    {
      "cell_type": "code",
      "source": [
        "!pip install -r requirements.txt"
      ],
      "metadata": {
        "id": "JYElPLqSt-Kd"
      },
      "execution_count": null,
      "outputs": []
    },
    {
      "cell_type": "code",
      "source": [
        "%cd model"
      ],
      "metadata": {
        "colab": {
          "base_uri": "https://localhost:8080/"
        },
        "id": "2HObVUp7vzgU",
        "outputId": "5debdbef-4137-4543-cd7e-332f2434bab4"
      },
      "execution_count": 57,
      "outputs": [
        {
          "output_type": "stream",
          "name": "stdout",
          "text": [
            "/content/v2/model\n"
          ]
        }
      ]
    },
    {
      "cell_type": "code",
      "source": [
        "!touch __init__.py"
      ],
      "metadata": {
        "id": "8MAhW5b4wHU6"
      },
      "execution_count": 40,
      "outputs": []
    },
    {
      "cell_type": "code",
      "source": [
        "import sys\n",
        "sys.path.append('.')"
      ],
      "metadata": {
        "id": "yDdjUcGqwWGr"
      },
      "execution_count": 59,
      "outputs": []
    },
    {
      "cell_type": "code",
      "source": [
        "# del sys.modules['organic']\n",
        "# del sys.modules['generator']\n",
        "# del sys.modules['discriminator']"
      ],
      "metadata": {
        "id": "Ax_eUlrwxu4O"
      },
      "execution_count": 27,
      "outputs": []
    },
    {
      "cell_type": "code",
      "source": [
        "# !pip install colab-xterm  \n",
        "# %load_ext colabxterm\n",
        "# %xterm"
      ],
      "metadata": {
        "id": "vzkmLlhdIbXX"
      },
      "execution_count": null,
      "outputs": []
    },
    {
      "cell_type": "code",
      "source": [
        "from organic import ORGANIC"
      ],
      "metadata": {
        "id": "2r__vUIJwpg1"
      },
      "execution_count": 65,
      "outputs": []
    },
    {
      "cell_type": "code",
      "source": [
        "model = ORGANIC('metrics', params={'PRETRAIN_GEN_EPOCHS': 1, 'PRETRAIN_DIS_EPOCHS': 1})"
      ],
      "metadata": {
        "colab": {
          "base_uri": "https://localhost:8080/"
        },
        "id": "z7o3akYYqwrY",
        "outputId": "dfd52461-5c7e-4ba7-ab82-f62b9c5146e1"
      },
      "execution_count": 66,
      "outputs": [
        {
          "output_type": "stream",
          "name": "stdout",
          "text": [
            "\n",
            "################################################################\n",
            "         ___  __    ___   _        __ _____  ___ \n",
            "        /___\\/__\\  / _ \\ /_\\    /\\ \\ \\_   \\/ __\\\n",
            "       //  // \\// / /_\\///_\\  /  \\/ / / /\\/ /   \n",
            "      / \\_// _  \\/ /_\\/  _  \\/ /\\  /\\/ /_/ /___ \n",
            "      \\___/\\/ \\_/\\____/\\_/ \\_/\\_\\ \\/\\____/\\____/ \n",
            "                                           \n",
            "                                              version 0.4.0\n",
            "################################################################\n",
            "\n",
            "\n",
            "\n",
            "\n"
          ]
        }
      ]
    },
    {
      "cell_type": "code",
      "source": [
        "model.load_training_set('../data/trainingsets/toy.csv')"
      ],
      "metadata": {
        "colab": {
          "base_uri": "https://localhost:8080/"
        },
        "id": "aiTP-rHuwr2v",
        "outputId": "d9d87c6a-f363-4459-87c2-3253cdf1dfa1"
      },
      "execution_count": 69,
      "outputs": [
        {
          "output_type": "stream",
          "name": "stdout",
          "text": [
            "\n",
            "PARAMETERS INFORMATION\n",
            "============================\n",
            "\n",
            "Model name               :   metrics\n",
            "Training set size        :   1984 points\n",
            "Max data length          :   43\n",
            "Avg length to use is     :   13.606262833675565\n",
            "Num valid data points is :   1948\n",
            "Size of alphabet is      :   22\n",
            "\n",
            "PRETRAIN_GEN_EPOCHS      :   1\n",
            "PRETRAIN_DIS_EPOCHS      :   1\n",
            "GEN_ITERATIONS           :   2\n",
            "GEN_BATCH_SIZE           :   64\n",
            "SEED                     :   None\n",
            "DIS_BATCH_SIZE           :   64\n",
            "DIS_EPOCHS               :   3\n",
            "EPOCH_SAVES              :   20\n",
            "CHK_PATH                 :   /content/v2/model/checkpoints/metrics\n",
            "GEN_EMB_DIM              :   32\n",
            "GEN_HIDDEN_DIM           :   32\n",
            "START_TOKEN              :   0\n",
            "SAMPLE_NUM               :   6400\n",
            "BIG_SAMPLE_NUM           :   32000\n",
            "LAMBDA                   :   0.5\n",
            "MAX_LENGTH               :   43\n",
            "DIS_EMB_DIM              :   64\n",
            "DIS_FILTER_SIZES         :   [1, 2, 3, 4, 5, 6, 7, 8, 9, 10, 15, 20]\n",
            "DIS_NUM_FILTERS          :   [100, 200, 200, 200, 200, 100, 100, 100, 100, 100, 160, 160]\n",
            "DIS_DROPOUT              :   0.75\n",
            "DIS_L2REG                :   0.2\n"
          ]
        }
      ]
    },
    {
      "cell_type": "code",
      "source": [
        "model.set_training_program(['validity'], [1])\n",
        "model.load_metrics()"
      ],
      "metadata": {
        "id": "DGxhTlujw00Y"
      },
      "execution_count": 70,
      "outputs": []
    },
    {
      "cell_type": "code",
      "source": [
        "model.train()"
      ],
      "metadata": {
        "colab": {
          "base_uri": "https://localhost:8080/"
        },
        "id": "NRUuw8nsw6G4",
        "outputId": "f7f25fa1-21eb-4568-8399-9e7923f2061f"
      },
      "execution_count": 72,
      "outputs": [
        {
          "output_type": "stream",
          "name": "stdout",
          "text": [
            "\n",
            "PRETRAINING\n",
            "============================\n",
            "\n",
            "GENERATOR PRETRAINING\n"
          ]
        },
        {
          "output_type": "stream",
          "name": "stderr",
          "text": [
            "100%|██████████| 1/1 [00:01<00:00,  1.58s/it]"
          ]
        },
        {
          "output_type": "stream",
          "name": "stdout",
          "text": [
            "\t train_loss 2.9755101203918457\n"
          ]
        },
        {
          "output_type": "stream",
          "name": "stderr",
          "text": [
            "\n"
          ]
        },
        {
          "output_type": "stream",
          "name": "stdout",
          "text": [
            "\n",
            "DISCRIMINATOR PRETRAINING\n"
          ]
        },
        {
          "output_type": "stream",
          "name": "stderr",
          "text": [
            "\r  0%|          | 0/1 [00:00<?, ?it/s]/content/v2/model/data_loaders.py:105: VisibleDeprecationWarning: Creating an ndarray from ragged nested sequences (which is a list-or-tuple of lists-or-tuples-or ndarrays with different lengths or shapes) is deprecated. If you meant to do this, you must specify 'dtype=object' when creating the ndarray.\n",
            "  data = np.array(list(data))\n",
            "100%|██████████| 1/1 [00:32<00:00, 32.51s/it]\n"
          ]
        },
        {
          "output_type": "stream",
          "name": "stdout",
          "text": [
            "Pretrain saved at checkpoints/metrics_pretrain_ckpt\n",
            "\n",
            "STARTING TRAINING\n",
            "============================\n",
            "\n"
          ]
        },
        {
          "output_type": "stream",
          "name": "stderr",
          "text": [
            "\r  0%|          | 0/1 [00:00<?, ?it/s]"
          ]
        },
        {
          "output_type": "stream",
          "name": "stdout",
          "text": [
            "Batch n. 0\n",
            "============================\n",
            "\n",
            "Summary of the epoch\n",
            "~~~~~~~~~~~~~~~~~~~~~~~~\n",
            "\n",
            "Total samples   :  32000\n",
            "Unique          :  32000 (100.00%)\n",
            "Unverified      :  32000 (100.00%)\n",
            "Verified        :      0 (0.00%)\n",
            "\n",
            "Some good samples:\n",
            "~~~~~~~~~~~~~~~~~~~~~~~~\n",
            "\n",
            "No good samples were found :(...\n",
            "\n",
            "Some bad samples:\n",
            "~~~~~~~~~~~~~~~~~~~~~~~~\n",
            "\n",
            ")3+[1C323O1NO13(]3^#2(Oo^^n_(=)_[C1NF=o#OcC\n",
            "FF=-o1(.+F1_H^NHF)[c)nO+)(3]]cN(n[+3)(+][O-\n",
            "NCn__#O]+#=F^cc(=NC#._23NF^1([_+OO=+=)3OH(+\n",
            "O(#)_^c(O)n_C#^F+H1cnC]2FcCNFn]2FOFn.3N[_)c\n",
            "12_)o=-+H(+nnCn=[nn1O.11oC-1.=3H__31n]c+HC]\n",
            "#o=(O_)__1H+Oo..3nc(=[+^-#^_F#..[oo)^oNc-(C\n",
            "#)O1)1H+1n1Ncn=1Cc=+HO_+-)cn1Fo)(N.OO1)2^=[\n",
            "F+3).+Hn.#n_nCc(CnF][F].=^[c=]C-311)cOFo1CH\n",
            "NCCc^-HoH(n_O-(2oC==-=O+[c[)].2F[N(H^3]n3+\n",
            "(n(Hc-[2)[1[O3=2]n)^[_HF(_1c(N^1nF+.)2)FOH1\n",
            "Rewards\n",
            "~~~~~~~~~~~~~~~~~~~~~~~~\n",
            "\n",
            "Mean:                0.000\n",
            "               +/-   0.000\n",
            "Min:                 0.000\n",
            "Max:                 0.010\n",
            "Rewards\n",
            "~~~~~~~~~~~~~~~~~~~~~~~~\n",
            "\n",
            "Mean:                0.000\n",
            "               +/-   0.000\n",
            "Min:                 0.000\n",
            "Max:                 0.000\n",
            "\n",
            "DISCRIMINATOR TRAINING\n",
            "============================\n",
            "\n",
            "Discriminator epoch 1...\n",
            "Discriminator epoch 2...\n",
            "Discriminator epoch 3...\n",
            "\n",
            "Discriminator trained.\n"
          ]
        },
        {
          "output_type": "stream",
          "name": "stderr",
          "text": [
            "100%|██████████| 1/1 [08:15<00:00, 495.42s/it]"
          ]
        },
        {
          "output_type": "stream",
          "name": "stdout",
          "text": [
            "\n",
            "Model saved at /content/v2/model/checkpoints/metrics/checkpoints/metrics/metrics_0.ckpt\n",
            "\n",
            "######### FINISHED #########\n"
          ]
        },
        {
          "output_type": "stream",
          "name": "stderr",
          "text": [
            "\n"
          ]
        }
      ]
    },
    {
      "cell_type": "code",
      "source": [
        "# from google.colab import drive\n",
        "# drive.mount('/content/drive')\n",
        "# !cp -rf checkpoints /content/drive/MyDrive/"
      ],
      "metadata": {
        "colab": {
          "base_uri": "https://localhost:8080/"
        },
        "id": "1hitJ7tYnpLg",
        "outputId": "3e256d48-be10-4408-a076-8a9e996e9985"
      },
      "execution_count": 49,
      "outputs": [
        {
          "output_type": "stream",
          "name": "stdout",
          "text": [
            "Mounted at /content/drive\n"
          ]
        }
      ]
    },
    {
      "cell_type": "code",
      "source": [
        "# model.load_prev_training(ckpt=\"checkpoints/metrics/checkpoints/metrics/metrics_0.ckpt\")\n",
        "results = model.generate_samples(100)"
      ],
      "metadata": {
        "id": "nfJKNH3RqBEK"
      },
      "execution_count": 91,
      "outputs": []
    },
    {
      "cell_type": "code",
      "source": [
        "import mol_methods as mm"
      ],
      "metadata": {
        "id": "edLG3aXzGfRO"
      },
      "execution_count": 78,
      "outputs": []
    },
    {
      "cell_type": "code",
      "source": [
        "smiles = [ mm.decode(e, model.ord_dict) for e in results ]\n",
        "valids = [ s for s in smiles if mm.verified_and_below(s,  model.MAX_LENGTH)]\n",
        "import pprint\n",
        "print('Output smiles:')\n",
        "pprint.pprint(smiles)\n",
        "print('Valid smiles:')\n",
        "pprint.pprint(valids)"
      ],
      "metadata": {
        "id": "Ctb-2ZTOGjjB"
      },
      "execution_count": null,
      "outputs": []
    }
  ]
}