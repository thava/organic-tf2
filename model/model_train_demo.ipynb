{
  "nbformat": 4,
  "nbformat_minor": 0,
  "metadata": {
    "colab": {
      "provenance": []
    },
    "kernelspec": {
      "name": "python3",
      "display_name": "Python 3"
    },
    "language_info": {
      "name": "python"
    }
  },
  "cells": [
    {
      "cell_type": "markdown",
      "source": [
        "# Model training demo to run in colab environment."
      ],
      "metadata": {
        "id": "Jx7EoTtx1s2a"
      }
    },
    {
      "cell_type": "code",
      "execution_count": null,
      "metadata": {
        "id": "9DeL5hVvotYI"
      },
      "outputs": [],
      "source": [
        "!git clone https://github.com/thava/organic-tf2.git"
      ]
    },
    {
      "cell_type": "code",
      "source": [
        "%cd /content/organic-tf2\n"
      ],
      "metadata": {
        "id": "5X9sTPDw430P"
      },
      "execution_count": null,
      "outputs": []
    },
    {
      "cell_type": "code",
      "source": [
        "!pip install -r requirements.txt"
      ],
      "metadata": {
        "id": "JYElPLqSt-Kd"
      },
      "execution_count": null,
      "outputs": []
    },
    {
      "cell_type": "code",
      "source": [
        "%cd model"
      ],
      "metadata": {
        "id": "2HObVUp7vzgU"
      },
      "execution_count": null,
      "outputs": []
    },
    {
      "cell_type": "code",
      "source": [
        "!touch __init__.py"
      ],
      "metadata": {
        "id": "8MAhW5b4wHU6"
      },
      "execution_count": 40,
      "outputs": []
    },
    {
      "cell_type": "code",
      "source": [
        "import sys\n",
        "sys.path.append('.')"
      ],
      "metadata": {
        "id": "yDdjUcGqwWGr"
      },
      "execution_count": 2,
      "outputs": []
    },
    {
      "cell_type": "code",
      "source": [
        "# del sys.modules['organic']\n",
        "# del sys.modules['generator']\n",
        "# del sys.modules['discriminator']"
      ],
      "metadata": {
        "id": "Ax_eUlrwxu4O"
      },
      "execution_count": 27,
      "outputs": []
    },
    {
      "cell_type": "code",
      "source": [
        "# !pip install colab-xterm  \n",
        "# %load_ext colabxterm\n",
        "# %xterm"
      ],
      "metadata": {
        "id": "vzkmLlhdIbXX"
      },
      "execution_count": null,
      "outputs": []
    },
    {
      "cell_type": "code",
      "source": [
        "from organic import ORGANIC"
      ],
      "metadata": {
        "id": "2r__vUIJwpg1"
      },
      "execution_count": 29,
      "outputs": []
    },
    {
      "cell_type": "code",
      "source": [
        "model = ORGANIC('metrics', params={'PRETRAIN_GEN_EPOCHS': 1, 'PRETRAIN_DIS_EPOCHS': 1})\n",
        "model.load_training_set('../data/trainingsets/toy.csv')"
      ],
      "metadata": {
        "colab": {
          "base_uri": "https://localhost:8080/"
        },
        "id": "aiTP-rHuwr2v",
        "outputId": "527fc6c0-8dbc-494f-f31c-090e9839239b"
      },
      "execution_count": 30,
      "outputs": [
        {
          "output_type": "stream",
          "name": "stdout",
          "text": [
            "\n",
            "################################################################\n",
            "         ___  __    ___   _        __ _____  ___ \n",
            "        /___\\/__\\  / _ \\ /_\\    /\\ \\ \\_   \\/ __\\\n",
            "       //  // \\// / /_\\///_\\  /  \\/ / / /\\/ /   \n",
            "      / \\_// _  \\/ /_\\/  _  \\/ /\\  /\\/ /_/ /___ \n",
            "      \\___/\\/ \\_/\\____/\\_/ \\_/\\_\\ \\/\\____/\\____/ \n",
            "                                           \n",
            "                                              version 0.4.0\n",
            "################################################################\n",
            "\n",
            "\n",
            "\n",
            "\n",
            "\n",
            "PARAMETERS INFORMATION\n",
            "============================\n",
            "\n",
            "Model name               :   metrics\n",
            "Training set size        :   1984 points\n",
            "Max data length          :   43\n",
            "Avg length to use is     :   13.606262833675565\n",
            "Num valid data points is :   1948\n",
            "Size of alphabet is      :   22\n",
            "\n",
            "PRETRAIN_GEN_EPOCHS      :   1\n",
            "PRETRAIN_DIS_EPOCHS      :   1\n",
            "GEN_ITERATIONS           :   2\n",
            "GEN_BATCH_SIZE           :   64\n",
            "SEED                     :   None\n",
            "DIS_BATCH_SIZE           :   64\n",
            "DIS_EPOCHS               :   3\n",
            "EPOCH_SAVES              :   20\n",
            "CHK_PATH                 :   /content/v2/model/checkpoints/metrics\n",
            "GEN_EMB_DIM              :   32\n",
            "GEN_HIDDEN_DIM           :   32\n",
            "START_TOKEN              :   0\n",
            "SAMPLE_NUM               :   6400\n",
            "BIG_SAMPLE_NUM           :   32000\n",
            "LAMBDA                   :   0.5\n",
            "MAX_LENGTH               :   43\n",
            "DIS_EMB_DIM              :   64\n",
            "DIS_FILTER_SIZES         :   [1, 2, 3, 4, 5, 6, 7, 8, 9, 10, 15, 20]\n",
            "DIS_NUM_FILTERS          :   [100, 200, 200, 200, 200, 100, 100, 100, 100, 100, 160, 160]\n",
            "DIS_DROPOUT              :   0.75\n",
            "DIS_L2REG                :   0.2\n"
          ]
        },
        {
          "output_type": "stream",
          "name": "stderr",
          "text": [
            "WARNING:tensorflow:From /usr/local/lib/python3.9/dist-packages/tensorflow/python/util/dispatch.py:1176: calling dropout (from tensorflow.python.ops.nn_ops) with keep_prob is deprecated and will be removed in a future version.\n",
            "Instructions for updating:\n",
            "Please use `rate` instead of `keep_prob`. Rate should be set to `rate = 1 - keep_prob`.\n",
            "WARNING:tensorflow:From /usr/local/lib/python3.9/dist-packages/tensorflow/python/util/dispatch.py:1176: softmax_cross_entropy_with_logits (from tensorflow.python.ops.nn_ops) is deprecated and will be removed in a future version.\n",
            "Instructions for updating:\n",
            "\n",
            "Future major versions of TensorFlow will allow gradients to flow\n",
            "into the labels input on backprop by default.\n",
            "\n",
            "See `tf.nn.softmax_cross_entropy_with_logits_v2`.\n",
            "\n"
          ]
        }
      ]
    },
    {
      "cell_type": "code",
      "source": [
        "model.set_training_program(['validity'], [1])\n",
        "model.load_metrics()"
      ],
      "metadata": {
        "id": "DGxhTlujw00Y"
      },
      "execution_count": 31,
      "outputs": []
    },
    {
      "cell_type": "code",
      "source": [
        "model.train()"
      ],
      "metadata": {
        "colab": {
          "base_uri": "https://localhost:8080/"
        },
        "id": "NRUuw8nsw6G4",
        "outputId": "a3c9f97c-6643-4a08-8624-f5585001eb06"
      },
      "execution_count": 43,
      "outputs": [
        {
          "output_type": "stream",
          "name": "stdout",
          "text": [
            "\n",
            "STARTING TRAINING\n",
            "============================\n",
            "\n"
          ]
        },
        {
          "output_type": "stream",
          "name": "stderr",
          "text": [
            "\r  0%|          | 0/1 [00:00<?, ?it/s]"
          ]
        },
        {
          "output_type": "stream",
          "name": "stdout",
          "text": [
            "Batch n. 0\n",
            "============================\n",
            "\n",
            "Summary of the epoch\n",
            "~~~~~~~~~~~~~~~~~~~~~~~~\n",
            "\n",
            "Total samples   :  32000\n",
            "Unique          :  32000 (100.00%)\n",
            "Unverified      :  32000 (100.00%)\n",
            "Verified        :      0 (0.00%)\n",
            "\n",
            "Some good samples:\n",
            "~~~~~~~~~~~~~~~~~~~~~~~~\n",
            "\n",
            "No good samples were found :(...\n",
            "\n",
            "Some bad samples:\n",
            "~~~~~~~~~~~~~~~~~~~~~~~~\n",
            "\n",
            "OC]CN^=^3_-^_(_1^=occ)3CCCnc_O#=))_coCcF)-]\n",
            "+Nc_N^_1)]c_1[_=O(^]]]2[C=O)1c..o1F-3-Nn(]c\n",
            "F#COC#2=+1NH]1ON22N2)(#[C].o=)_=n_C(]=12F)c\n",
            "O1C[+nn=3+o=O.3_)NNF.C)_o_n(C#n[[#N+)_()c=\n",
            "c=^c[_C(2(^F(-.nNc[-=OcN_c()Hc_o2N()#^HcH).\n",
            "N-(N=oNN.)c(.+O][O^o-n1C3))1=FF#3H.^#^(((^]\n",
            "Cn-[(H_=^#O)+3+)](OoCOF-1C[oCoo]_])oH]+^Nn[\n",
            "N[=-.13(N[[-])-##.O])=[+FF[C^[3n^OC)##cF^[.\n",
            "N])F(]1(Fc33OHC.#=c__1(c.#_+]=C^ncC^]C[=o+[\n",
            "..)+2((O2F)^3-O-(O([2CO=1=+n^)C3[)#)_.c_(1=\n",
            "Rewards\n",
            "~~~~~~~~~~~~~~~~~~~~~~~~\n",
            "\n",
            "Mean:                0.000\n",
            "               +/-   0.000\n",
            "Min:                 0.000\n",
            "Max:                 0.000\n",
            "Rewards\n",
            "~~~~~~~~~~~~~~~~~~~~~~~~\n",
            "\n",
            "Mean:                0.000\n",
            "               +/-   0.000\n",
            "Min:                 0.000\n",
            "Max:                 0.000\n",
            "\n",
            "DISCRIMINATOR TRAINING\n",
            "============================\n",
            "\n",
            "Discriminator epoch 1...\n"
          ]
        },
        {
          "output_type": "stream",
          "name": "stderr",
          "text": [
            "/content/v2/model/data_loaders.py:105: VisibleDeprecationWarning: Creating an ndarray from ragged nested sequences (which is a list-or-tuple of lists-or-tuples-or ndarrays with different lengths or shapes) is deprecated. If you meant to do this, you must specify 'dtype=object' when creating the ndarray.\n",
            "  data = np.array(list(data))\n"
          ]
        },
        {
          "output_type": "stream",
          "name": "stdout",
          "text": [
            "Discriminator epoch 2...\n",
            "Discriminator epoch 3...\n",
            "\n",
            "Discriminator trained.\n"
          ]
        },
        {
          "output_type": "stream",
          "name": "stderr",
          "text": [
            "100%|██████████| 1/1 [07:50<00:00, 470.99s/it]"
          ]
        },
        {
          "output_type": "stream",
          "name": "stdout",
          "text": [
            "\n",
            "Model saved at /content/v2/model/checkpoints/metrics/checkpoints/metrics/metrics_0.ckpt\n",
            "\n",
            "######### FINISHED #########\n"
          ]
        },
        {
          "output_type": "stream",
          "name": "stderr",
          "text": [
            "\n"
          ]
        }
      ]
    },
    {
      "cell_type": "code",
      "source": [],
      "metadata": {
        "id": "KC60tOGSq-l8"
      },
      "execution_count": null,
      "outputs": []
    }
  ]
}